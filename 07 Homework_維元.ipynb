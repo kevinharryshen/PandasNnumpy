{
 "cells": [
  {
   "cell_type": "markdown",
   "metadata": {
    "colab_type": "text",
    "id": "P6xk2_jLsvFF"
   },
   "source": [
    "# [作業目標]\n",
    "\n",
    "1. 請比較對一個 100 x 100 * 100 的陣列，使用不同方法對每一個元素 +1 的時間比較。\n",
    "\n",
    "2. 如何從一個陣列中，找出出現頻率最高的數值與位置？\n",
    "\n",
    "3. 如何利用 list(...) 實現 a.tolist() 的效果？試著用程式實作。\n"
   ]
  },
  {
   "cell_type": "markdown",
   "metadata": {
    "colab_type": "text",
    "id": "uXGll28asvFS"
   },
   "source": [
    "# 作業 "
   ]
  },
  {
   "cell_type": "markdown",
   "metadata": {},
   "source": [
    "### 1. 請比較對一個 1000 x 100 x 100 的陣列，使用不同方法對每一個元素 +1 的時間比較。\n",
    "\n",
    "\n"
   ]
  },
  {
   "cell_type": "code",
   "execution_count": 1,
   "metadata": {},
   "outputs": [],
   "source": [
    "# 記得先 Import 正確的套件\n",
    "\n",
    "import numpy as np"
   ]
  },
  {
   "cell_type": "code",
   "execution_count": 2,
   "metadata": {
    "colab": {},
    "colab_type": "code",
    "id": "5QrYoyNWsvFS"
   },
   "outputs": [
    {
     "data": {
      "text/plain": [
       "array([[[2, 3, 8, ..., 4, 7, 5],\n",
       "        [6, 6, 4, ..., 1, 3, 4],\n",
       "        [4, 0, 2, ..., 8, 2, 3],\n",
       "        ...,\n",
       "        [9, 2, 0, ..., 4, 7, 8],\n",
       "        [8, 6, 8, ..., 2, 5, 8],\n",
       "        [3, 9, 6, ..., 2, 5, 0]],\n",
       "\n",
       "       [[6, 4, 1, ..., 1, 9, 8],\n",
       "        [5, 8, 9, ..., 8, 1, 0],\n",
       "        [7, 3, 9, ..., 6, 9, 6],\n",
       "        ...,\n",
       "        [0, 8, 5, ..., 9, 2, 8],\n",
       "        [0, 3, 5, ..., 8, 0, 2],\n",
       "        [7, 9, 5, ..., 6, 5, 1]],\n",
       "\n",
       "       [[7, 1, 1, ..., 6, 4, 3],\n",
       "        [3, 6, 6, ..., 8, 9, 8],\n",
       "        [8, 7, 7, ..., 7, 6, 3],\n",
       "        ...,\n",
       "        [0, 9, 8, ..., 0, 1, 2],\n",
       "        [4, 7, 7, ..., 1, 5, 3],\n",
       "        [5, 0, 2, ..., 4, 8, 9]],\n",
       "\n",
       "       ...,\n",
       "\n",
       "       [[6, 4, 4, ..., 0, 7, 9],\n",
       "        [2, 7, 7, ..., 3, 5, 4],\n",
       "        [2, 3, 6, ..., 0, 9, 9],\n",
       "        ...,\n",
       "        [5, 9, 4, ..., 6, 4, 8],\n",
       "        [2, 0, 5, ..., 6, 2, 5],\n",
       "        [5, 5, 5, ..., 8, 9, 8]],\n",
       "\n",
       "       [[6, 0, 8, ..., 3, 3, 5],\n",
       "        [1, 6, 6, ..., 3, 3, 3],\n",
       "        [1, 8, 2, ..., 4, 5, 9],\n",
       "        ...,\n",
       "        [6, 0, 3, ..., 0, 7, 7],\n",
       "        [3, 1, 5, ..., 7, 8, 3],\n",
       "        [0, 9, 7, ..., 1, 7, 3]],\n",
       "\n",
       "       [[4, 7, 1, ..., 7, 0, 0],\n",
       "        [5, 6, 5, ..., 5, 2, 9],\n",
       "        [3, 7, 2, ..., 2, 0, 4],\n",
       "        ...,\n",
       "        [9, 9, 6, ..., 2, 7, 5],\n",
       "        [9, 2, 1, ..., 5, 7, 4],\n",
       "        [7, 4, 6, ..., 8, 0, 5]]])"
      ]
     },
     "execution_count": 2,
     "metadata": {},
     "output_type": "execute_result"
    }
   ],
   "source": [
    "Z = np.random.randint(0, 10, 1000000).reshape(100, 100, 100)\n",
    "Z"
   ]
  },
  {
   "cell_type": "code",
   "execution_count": 11,
   "metadata": {},
   "outputs": [
    {
     "name": "stdout",
     "output_type": "stream",
     "text": [
      "58.7 ns ± 20.3 ns per loop (mean ± std. dev. of 7 runs, 10 loops each)\n"
     ]
    }
   ],
   "source": [
    "%timeit -n 10 a = 2\n",
    "\n",
    "for row in Z:\n",
    "    for d in row:\n",
    "        next_d = d+1"
   ]
  },
  {
   "cell_type": "code",
   "execution_count": 12,
   "metadata": {},
   "outputs": [
    {
     "name": "stdout",
     "output_type": "stream",
     "text": [
      "64.5 ns ± 20.3 ns per loop (mean ± std. dev. of 7 runs, 10 loops each)\n"
     ]
    }
   ],
   "source": [
    "%timeit -n 10 a = 2\n",
    "\n",
    "for d in Z.flat:\n",
    "    next_d = d+1"
   ]
  },
  {
   "cell_type": "code",
   "execution_count": 13,
   "metadata": {},
   "outputs": [
    {
     "name": "stdout",
     "output_type": "stream",
     "text": [
      "64.5 ns ± 20.3 ns per loop (mean ± std. dev. of 7 runs, 10 loops each)\n"
     ]
    }
   ],
   "source": [
    "%timeit -n 10 a = 2\n",
    "\n",
    "for d in np.nditer(Z):\n",
    "    next_d = d+1"
   ]
  },
  {
   "cell_type": "markdown",
   "metadata": {},
   "source": [
    "### 2. 如何從一個陣列中，找出出現頻率最高的數值與位置？\n"
   ]
  },
  {
   "cell_type": "code",
   "execution_count": 19,
   "metadata": {
    "colab": {},
    "colab_type": "code",
    "id": "e1gVI0tvsvFY"
   },
   "outputs": [
    {
     "name": "stdout",
     "output_type": "stream",
     "text": [
      "[1 5 0 9 7 7 2 9 6 3 3 1 9 6 9 4 0 0 1 3 5 4 9 1 5 9 9 5 4 1 5 5 3 2 9 0 2\n",
      " 8 3 4 0 0 0 8 1 2 3 3 8 3]\n"
     ]
    }
   ],
   "source": [
    "\n",
    "Z = np.random.randint(0,10,50)\n",
    "print(Z)\n"
   ]
  },
  {
   "cell_type": "code",
   "execution_count": 31,
   "metadata": {},
   "outputs": [
    {
     "name": "stdout",
     "output_type": "stream",
     "text": [
      "3\n",
      "[7 6 4 8 4 6 2 2 3 8]\n",
      "(array([ 9, 10, 19, 32, 38, 46, 47, 49], dtype=int32),)\n"
     ]
    }
   ],
   "source": [
    "counts = np.bincount(Z)\n",
    "print(np.argmax(counts))\n",
    "print(counts)\n",
    "print(np.where(Z == np.argmax(counts)))"
   ]
  },
  {
   "cell_type": "markdown",
   "metadata": {},
   "source": [
    "bincount:<br>\n",
    "Count number of occurrences of each value in array of non-negative ints.\n",
    "它會回傳陣列裡，min~max之間的數值，當作index，並列出各數值的出現頻率"
   ]
  },
  {
   "cell_type": "code",
   "execution_count": 13,
   "metadata": {},
   "outputs": [
    {
     "data": {
      "text/plain": [
       "array([ 0,  5,  9, 10, 11, 12, 18, 22, 38, 39, 41, 47, 49])"
      ]
     },
     "execution_count": 13,
     "metadata": {},
     "output_type": "execute_result"
    }
   ],
   "source": [
    "'''\n",
    "Your Code\n",
    "'''"
   ]
  },
  {
   "cell_type": "markdown",
   "metadata": {},
   "source": [
    "### 3. 如何利用 list(...) 實現 a.tolist() 的效果？試著用程式實作。\n"
   ]
  },
  {
   "cell_type": "code",
   "execution_count": 32,
   "metadata": {},
   "outputs": [
    {
     "name": "stdout",
     "output_type": "stream",
     "text": [
      "[0, 6, 9, 0, 9, 0]\n",
      "[0, 6, 9, 0, 9, 0]\n",
      "[[2, 4, 8, 5], [0, 3, 1, 3], [6, 7, 9, 3]]\n",
      "[array([2, 4, 8, 5]), array([0, 3, 1, 3]), array([6, 7, 9, 3])]\n",
      "[[[7, 3], [5, 6], [1, 4]], [[0, 3], [9, 8], [7, 4]]]\n",
      "[array([[7, 3],\n",
      "       [5, 6],\n",
      "       [1, 4]]), array([[0, 3],\n",
      "       [9, 8],\n",
      "       [7, 4]])]\n"
     ]
    }
   ],
   "source": [
    "a = np.random.randint(10, size=6) \n",
    "\n",
    "print(a.tolist())\n",
    "print(list(a))\n",
    "\n",
    "\n",
    "b = np.random.randint(10, size=(3,4)) \n",
    "\n",
    "print(b.tolist())\n",
    "print(list(b))\n",
    "\n",
    "\n",
    "c = np.random.randint(10, size=(2,3,2)) \n",
    "\n",
    "print(c.tolist())\n",
    "print(list(c))\n"
   ]
  },
  {
   "cell_type": "code",
   "execution_count": null,
   "metadata": {},
   "outputs": [],
   "source": [
    "'''\n",
    "Your Code\n",
    "'''"
   ]
  }
 ],
 "metadata": {
  "colab": {
   "name": "Day_023_HW.ipynb",
   "provenance": []
  },
  "kernelspec": {
   "display_name": "Python 3",
   "language": "python",
   "name": "python3"
  },
  "language_info": {
   "codemirror_mode": {
    "name": "ipython",
    "version": 3
   },
   "file_extension": ".py",
   "mimetype": "text/x-python",
   "name": "python",
   "nbconvert_exporter": "python",
   "pygments_lexer": "ipython3",
   "version": "3.7.2"
  }
 },
 "nbformat": 4,
 "nbformat_minor": 1
}
